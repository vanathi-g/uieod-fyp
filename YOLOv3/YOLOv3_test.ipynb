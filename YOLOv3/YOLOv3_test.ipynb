{
  "nbformat": 4,
  "nbformat_minor": 0,
  "metadata": {
    "colab": {
      "name": "YOLOv3_DUO_TEST.ipynb",
      "provenance": [],
      "collapsed_sections": []
    },
    "kernelspec": {
      "name": "python3",
      "display_name": "Python 3"
    },
    "language_info": {
      "name": "python"
    },
    "accelerator": "GPU"
  },
  "cells": [
    {
      "cell_type": "code",
      "execution_count": 1,
      "metadata": {
        "colab": {
          "base_uri": "https://localhost:8080/"
        },
        "id": "Vj2N9QWi_3HZ",
        "outputId": "7b1e3330-f1de-4e3e-b8bf-3ff84f47bcd3"
      },
      "outputs": [
        {
          "output_type": "stream",
          "name": "stdout",
          "text": [
            "Thu Jun  2 14:42:36 2022       \n",
            "+-----------------------------------------------------------------------------+\n",
            "| NVIDIA-SMI 460.32.03    Driver Version: 460.32.03    CUDA Version: 11.2     |\n",
            "|-------------------------------+----------------------+----------------------+\n",
            "| GPU  Name        Persistence-M| Bus-Id        Disp.A | Volatile Uncorr. ECC |\n",
            "| Fan  Temp  Perf  Pwr:Usage/Cap|         Memory-Usage | GPU-Util  Compute M. |\n",
            "|                               |                      |               MIG M. |\n",
            "|===============================+======================+======================|\n",
            "|   0  Tesla T4            Off  | 00000000:00:04.0 Off |                    0 |\n",
            "| N/A   52C    P8    12W /  70W |      0MiB / 15109MiB |      0%      Default |\n",
            "|                               |                      |                  N/A |\n",
            "+-------------------------------+----------------------+----------------------+\n",
            "                                                                               \n",
            "+-----------------------------------------------------------------------------+\n",
            "| Processes:                                                                  |\n",
            "|  GPU   GI   CI        PID   Type   Process name                  GPU Memory |\n",
            "|        ID   ID                                                   Usage      |\n",
            "|=============================================================================|\n",
            "|  No running processes found                                                 |\n",
            "+-----------------------------------------------------------------------------+\n"
          ]
        }
      ],
      "source": [
        "!nvidia-smi"
      ]
    },
    {
      "cell_type": "code",
      "source": [
        "from google.colab import drive\n",
        "drive.mount('/content/gdrive')"
      ],
      "metadata": {
        "colab": {
          "base_uri": "https://localhost:8080/"
        },
        "id": "nzq5SdgcAMTy",
        "outputId": "90216199-3da8-4371-d99b-505e7e1eeb0f"
      },
      "execution_count": 2,
      "outputs": [
        {
          "output_type": "stream",
          "name": "stdout",
          "text": [
            "Mounted at /content/gdrive\n"
          ]
        }
      ]
    },
    {
      "cell_type": "code",
      "source": [
        "!ln -s /content/gdrive/My\\ Drive/ /mydrive"
      ],
      "metadata": {
        "id": "AbbSfRDSAN4U"
      },
      "execution_count": 3,
      "outputs": []
    },
    {
      "cell_type": "markdown",
      "source": [
        "## Clone and configure Darknet\n",
        "---"
      ],
      "metadata": {
        "id": "Akoj0X2DcbZ7"
      }
    },
    {
      "cell_type": "code",
      "source": [
        "!git clone https://github.com/AlexeyAB/darknet"
      ],
      "metadata": {
        "colab": {
          "base_uri": "https://localhost:8080/"
        },
        "id": "tc85ukuS__fb",
        "outputId": "bac6b7d2-e446-441e-c73d-81163eaf381c"
      },
      "execution_count": 4,
      "outputs": [
        {
          "output_type": "stream",
          "name": "stdout",
          "text": [
            "Cloning into 'darknet'...\n",
            "remote: Enumerating objects: 15420, done.\u001b[K\n",
            "remote: Total 15420 (delta 0), reused 0 (delta 0), pack-reused 15420\u001b[K\n",
            "Receiving objects: 100% (15420/15420), 14.05 MiB | 23.99 MiB/s, done.\n",
            "Resolving deltas: 100% (10360/10360), done.\n"
          ]
        }
      ]
    },
    {
      "cell_type": "code",
      "source": [
        "%cd darknet\n",
        "!sed -i 's/OPENCV=0/OPENCV=1/' Makefile\n",
        "!sed -i 's/GPU=0/GPU=1/' Makefile\n",
        "!sed -i 's/CUDNN=0/CUDNN=1/' Makefile\n",
        "!make"
      ],
      "metadata": {
        "id": "FGvZywvdACC9"
      },
      "execution_count": null,
      "outputs": []
    },
    {
      "cell_type": "markdown",
      "source": [
        "## Configure YOLOv3 training parameters\n",
        "---\n"
      ],
      "metadata": {
        "id": "3qv4bdEocHzS"
      }
    },
    {
      "cell_type": "code",
      "source": [
        "!cp /content/darknet/cfg/yolov3.cfg /content/darknet/cfg/yolov3_training.cfg"
      ],
      "metadata": {
        "id": "1UfvXe68AEmL"
      },
      "execution_count": 6,
      "outputs": []
    },
    {
      "cell_type": "code",
      "source": [
        "!sed -i 's/max_batches = 500200/max_batches = 8000/' /content/darknet/cfg/yolov3_training.cfg\n",
        "!sed -i '610 s@classes=80@classes=4@' /content/darknet/cfg/yolov3_training.cfg\n",
        "!sed -i '696 s@classes=80@classes=4@' /content/darknet/cfg/yolov3_training.cfg\n",
        "!sed -i '783 s@classes=80@classes=4@' /content/darknet/cfg/yolov3_training.cfg\n",
        "!sed -i '603 s@filters=255@filters=27@' /content/darknet/cfg/yolov3_training.cfg\n",
        "!sed -i '689 s@filters=255@filters=27@' /content/darknet/cfg/yolov3_training.cfg\n",
        "!sed -i '776 s@filters=255@filters=27@' /content/darknet/cfg/yolov3_training.cfg"
      ],
      "metadata": {
        "id": "bpCsOVcTAGml"
      },
      "execution_count": 7,
      "outputs": []
    },
    {
      "cell_type": "code",
      "source": [
        "!echo -e 'holothurian\\nechinus\\nscallop\\nstarfish' > data/obj.names"
      ],
      "metadata": {
        "id": "vq_6rHsOAIgi"
      },
      "execution_count": 8,
      "outputs": []
    },
    {
      "cell_type": "code",
      "source": [
        "yolo_weights = 'yolov3_normal' #yolov3_normal or yolov3_2000 or yolov3_6000\n",
        "yolo_test_set = 'yolo_test.zip' #yolo_test or eyolo_2000_test or eyolo_6000_test"
      ],
      "metadata": {
        "id": "JLBCPB5U3EJt"
      },
      "execution_count": null,
      "outputs": []
    },
    {
      "cell_type": "code",
      "source": [
        "# Change backup folder as necessary\n",
        "!echo -e 'classes=4\\ntrain=data/train.txt\\nvalid=data/test.txt\\nnames=data/obj.names\\nbackup=/mydrive/yolov3_normal' > data/obj.data"
      ],
      "metadata": {
        "id": "KDRMOpt9AKnr"
      },
      "execution_count": 9,
      "outputs": []
    },
    {
      "cell_type": "markdown",
      "source": [
        "## Get test dataset\n",
        "---\n"
      ],
      "metadata": {
        "id": "P-6iOl5uc8Ju"
      }
    },
    {
      "cell_type": "code",
      "source": [
        "# Change dataset folder as necessary \n",
        "!unzip -q /mydrive/yolo_test.zip -d data/testobj"
      ],
      "metadata": {
        "id": "rAY1yuiyAYFF"
      },
      "execution_count": 11,
      "outputs": []
    },
    {
      "cell_type": "code",
      "source": [
        "import glob\n",
        "test_images_list = glob.glob(\"data/testobj/*.jpg\") #Ensure path to each image is correct\n",
        "with open(\"data/test.txt\", \"w\") as f:\n",
        "    f.write(\"\\n\".join(test_images_list))"
      ],
      "metadata": {
        "id": "GliRMWtEAaIL"
      },
      "execution_count": 12,
      "outputs": []
    },
    {
      "cell_type": "markdown",
      "source": [
        "## Testing\n",
        "---"
      ],
      "metadata": {
        "id": "hR8tO8DZdG5e"
      }
    },
    {
      "cell_type": "code",
      "source": [
        "# To see predictions for a single image (output image saved as 'darknet/predictions.txt')\n",
        "# Can change: weights folder (Ex: yolov3_normal), weights file (Ex: yolov3_training_7000.weights), image (Ex: 100.jpg)\n",
        "!./darknet detector test data/obj.data cfg/yolov3_training.cfg /content/gdrive/MyDrive/yolov3_normal/yolov3_training_7000.weights /content/darknet/data/testobj/666.jpg"
      ],
      "metadata": {
        "id": "YDxUW4g1Aacq"
      },
      "execution_count": null,
      "outputs": []
    },
    {
      "cell_type": "code",
      "source": [
        "# To generate mAP score and other metrics (saved as specified .txt file)\n",
        "!./darknet detector map data/obj.data cfg/yolov3_training.cfg /content/gdrive/MyDrive/yolov3_normal/yolov3_training_7000.weights -dont_show < data/test.txt > noGAN_map_7000.txt"
      ],
      "metadata": {
        "id": "MOrLJpYei_ge"
      },
      "execution_count": null,
      "outputs": []
    },
    {
      "cell_type": "markdown",
      "source": [
        "## Draw ground truth bounding box\n",
        "---"
      ],
      "metadata": {
        "id": "TX27Ph9qdjQN"
      }
    },
    {
      "cell_type": "code",
      "source": [
        "import json\n",
        "import pandas as pd\n",
        "from google.colab.patches import cv2\n",
        "import matplotlib.pyplot as plt\n",
        "import math\n",
        "import numpy as np\n",
        "from PIL import Image, ImageDraw, ImageFont"
      ],
      "metadata": {
        "id": "G1PfUH0wdmFM"
      },
      "execution_count": 4,
      "outputs": []
    },
    {
      "cell_type": "code",
      "source": [
        "# Change path to DUO dataset zip file as necessary\n",
        "!unzip -q /content/gdrive/MyDrive/FYP/DATASETS/DUO.zip -d /content"
      ],
      "metadata": {
        "id": "S972ykQiibtk"
      },
      "execution_count": 5,
      "outputs": []
    },
    {
      "cell_type": "code",
      "source": [
        "classes_file = open('/content/DUO/annotations/instances_test.json')\n",
        "classes_dict = json.load(classes_file)\n",
        "class_ids = []\n",
        "class_names = []\n",
        "for i in classes_dict['categories']:\n",
        "  class_ids.append(i['id'])\n",
        "  class_names.append(i['name'])"
      ],
      "metadata": {
        "id": "7-fr8yTUipwy"
      },
      "execution_count": 6,
      "outputs": []
    },
    {
      "cell_type": "code",
      "source": [
        "image_annotations = {}\n",
        "for i in classes_dict['annotations']:\n",
        "  if i[\"image_id\"] in image_annotations:\n",
        "    image_annotations[i[\"image_id\"]] = image_annotations[i[\"image_id\"]] + [i]\n",
        "  else:\n",
        "    image_annotations[i[\"image_id\"]] = [i]"
      ],
      "metadata": {
        "id": "bnc7ggVViuNb"
      },
      "execution_count": 7,
      "outputs": []
    },
    {
      "cell_type": "code",
      "source": [
        "# Colors of bounding box of each class\n",
        "colors = [(255, 0, 255), (255,0,0), (50,205,50), (0, 255, 255)]"
      ],
      "metadata": {
        "id": "HVHRr8VZiu0i"
      },
      "execution_count": 8,
      "outputs": []
    },
    {
      "cell_type": "code",
      "source": [
        "# Load specified image\n",
        "def load_image(img_num):\n",
        "    img = \"/content/DUO/images/test/\"+str(img_num)+\".jpg\"\n",
        "    img = Image.open(img)\n",
        "    return img"
      ],
      "metadata": {
        "id": "A1UfWqGsixri"
      },
      "execution_count": 9,
      "outputs": []
    },
    {
      "cell_type": "code",
      "source": [
        "# Display an image\n",
        "def display_image(img):\n",
        "    imgplot = plt.imshow(img)\n",
        "    plt.axis(\"off\")\n",
        "    plt.show()"
      ],
      "metadata": {
        "id": "DxoecHm2i08j"
      },
      "execution_count": 10,
      "outputs": []
    },
    {
      "cell_type": "code",
      "source": [
        "img_num = 100 # Select image\n",
        "\n",
        "img_anns = image_annotations[img_num]\n",
        "\n",
        "img = load_image(img_num)\n",
        "canvas = ImageDraw.Draw(img)\n",
        "\n",
        "# Drawing bounding boxes\n",
        "for ann in img_anns:\n",
        "  bbox = ann[\"bbox\"]\n",
        "  class_id = ann[\"category_id\"]\n",
        "  class_name = class_names[class_id-1]\n",
        "\n",
        "  x_min = bbox[0]\n",
        "  y_min = bbox[1]\n",
        "  x_max = bbox[0]+bbox[2]\n",
        "  y_max = bbox[1]+bbox[3]\n",
        "\n",
        "  shape = [(x_min, y_min), (x_max, y_max)]\n",
        "  text_pos = (x_min,y_min-18)\n",
        "\n",
        "  # IMPORTANT: upload font file!\n",
        "  # Change font size and width of rectangle as necessary\n",
        "  font = ImageFont.truetype(\"/content/OpenSans-Regular.ttf\", 15)\n",
        "\n",
        "  canvas.rectangle(shape, outline=colors[class_id-1], width=3)\n",
        "  canvas.text(text_pos, class_name, fill=colors[class_id-1], font=font)\n",
        "\n",
        "# Save image for download (or can save directly to Drive if required)\n",
        "img.save('/content/bb_drawn.png')\n",
        "# Display image with bounding box annotations\n",
        "display_image(img)"
      ],
      "metadata": {
        "id": "zMqorMMji5VE"
      },
      "execution_count": null,
      "outputs": []
    }
  ]
}