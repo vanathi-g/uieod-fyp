{
  "nbformat": 4,
  "nbformat_minor": 0,
  "metadata": {
    "colab": {
      "name": "Enhance Images.ipynb",
      "provenance": [],
      "collapsed_sections": []
    },
    "kernelspec": {
      "name": "python3",
      "display_name": "Python 3"
    },
    "language_info": {
      "name": "python"
    },
    "accelerator": "GPU"
  },
  "cells": [
    {
      "cell_type": "code",
      "source": [
        "import keras\n",
        "import numpy as np\n",
        "from PIL import Image\n",
        "import glob"
      ],
      "metadata": {
        "id": "cp3m9XJI9mfP"
      },
      "execution_count": null,
      "outputs": []
    },
    {
      "cell_type": "code",
      "execution_count": null,
      "metadata": {
        "id": "2oLdDv0Y6Xmz"
      },
      "outputs": [],
      "source": [
        "from google.colab import drive\n",
        "drive.mount('/content/gdrive')"
      ]
    },
    {
      "cell_type": "code",
      "source": [
        "# Must have zip file of DUO dataset in drive\n",
        "!unzip -qq /content/gdrive/MyDrive/DUO.zip -d /content"
      ],
      "metadata": {
        "id": "ND8wXkEl7aww"
      },
      "execution_count": null,
      "outputs": []
    },
    {
      "cell_type": "code",
      "source": [
        "# Path to generator model file\n",
        "generator = keras.models.load_model(\"/content/gdrive/MyDrive/SRGAN_models/generator_2000.h5\", compile=False)"
      ],
      "metadata": {
        "id": "3dlLp0TO7p4d"
      },
      "execution_count": null,
      "outputs": []
    },
    {
      "cell_type": "code",
      "source": [
        "def enhance_image(file_name):\n",
        "  image = Image.open(file_name)\n",
        "  np_img = np.array(image)\n",
        "  test_image = np_img / 127.5 - 1.\n",
        "\n",
        "  test_image_to_gen = np.expand_dims(test_image, axis=0)\n",
        "  generated_image = generator.predict(test_image_to_gen)\n",
        "  \n",
        "  generated_image = ((generated_image[0] + 1)/2)*255\n",
        "  im_array = generated_image.astype(np.uint8)\n",
        "  im = Image.fromarray(im_array).convert('RGB')\n",
        "  \n",
        "  # Path to save enhanced image to\n",
        "  name = '/content/gdrive/MyDrive/Enhanced_2000/train/' + file_name[25:]\n",
        "  im.save(name)"
      ],
      "metadata": {
        "id": "u23Hu-YB9Tnl"
      },
      "execution_count": null,
      "outputs": []
    },
    {
      "cell_type": "code",
      "source": [
        "# Path to DUO dataset (unzipped)\n",
        "data_dir = '/content/DUO/images/train/'\n",
        "\n",
        "# Change range to determine what images to enhance\n",
        "for file_no in range(1, 1000):\n",
        "  file_name = data_dir + str(file_no) + '.jpg'\n",
        "  enhance_image(file_name)"
      ],
      "metadata": {
        "id": "U1aXa_8buVdB"
      },
      "execution_count": null,
      "outputs": []
    },
    {
      "cell_type": "code",
      "source": [
        "# To zip and download enhanced images stored in /content/<folder> if necessary\n",
        "!zip -r /content/enhanced_images.zip enhanced_train"
      ],
      "metadata": {
        "id": "4bQGBQQxSO4w"
      },
      "execution_count": null,
      "outputs": []
    }
  ]
}